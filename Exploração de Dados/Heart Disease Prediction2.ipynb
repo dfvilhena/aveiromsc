{
 "cells": [
  {
   "cell_type": "code",
   "execution_count": 468,
   "metadata": {},
   "outputs": [],
   "source": [
    "%matplotlib inline\n",
    "import pandas as pd\n",
    "import matplotlib.pyplot as plt\n",
    "import numpy as np\n",
    "from sklearn.model_selection import train_test_split\n",
    "from sklearn.ensemble import RandomForestRegressor\n",
    "from sklearn import svm\n",
    "from sklearn.neural_network import MLPClassifier\n",
    "from sklearn.metrics import average_precision_score, precision_recall_curve, plot_precision_recall_curve, f1_score, plot_confusion_matrix"
   ]
  },
  {
   "cell_type": "code",
   "execution_count": 469,
   "metadata": {},
   "outputs": [
    {
     "data": {
      "text/html": [
       "<div>\n",
       "<style scoped>\n",
       "    .dataframe tbody tr th:only-of-type {\n",
       "        vertical-align: middle;\n",
       "    }\n",
       "\n",
       "    .dataframe tbody tr th {\n",
       "        vertical-align: top;\n",
       "    }\n",
       "\n",
       "    .dataframe thead th {\n",
       "        text-align: right;\n",
       "    }\n",
       "</style>\n",
       "<table border=\"1\" class=\"dataframe\">\n",
       "  <thead>\n",
       "    <tr style=\"text-align: right;\">\n",
       "      <th></th>\n",
       "      <th>age</th>\n",
       "      <th>sex</th>\n",
       "      <th>chest pain type</th>\n",
       "      <th>resting bp s</th>\n",
       "      <th>cholesterol</th>\n",
       "      <th>fasting blood sugar</th>\n",
       "      <th>resting ecg</th>\n",
       "      <th>max heart rate</th>\n",
       "      <th>exercise angina</th>\n",
       "      <th>oldpeak</th>\n",
       "      <th>ST slope</th>\n",
       "      <th>target</th>\n",
       "    </tr>\n",
       "  </thead>\n",
       "  <tbody>\n",
       "    <tr>\n",
       "      <th>0</th>\n",
       "      <td>40</td>\n",
       "      <td>1</td>\n",
       "      <td>2</td>\n",
       "      <td>140</td>\n",
       "      <td>289</td>\n",
       "      <td>0</td>\n",
       "      <td>0</td>\n",
       "      <td>172</td>\n",
       "      <td>0</td>\n",
       "      <td>0.0</td>\n",
       "      <td>1</td>\n",
       "      <td>0</td>\n",
       "    </tr>\n",
       "    <tr>\n",
       "      <th>1</th>\n",
       "      <td>49</td>\n",
       "      <td>0</td>\n",
       "      <td>3</td>\n",
       "      <td>160</td>\n",
       "      <td>180</td>\n",
       "      <td>0</td>\n",
       "      <td>0</td>\n",
       "      <td>156</td>\n",
       "      <td>0</td>\n",
       "      <td>1.0</td>\n",
       "      <td>2</td>\n",
       "      <td>1</td>\n",
       "    </tr>\n",
       "    <tr>\n",
       "      <th>2</th>\n",
       "      <td>37</td>\n",
       "      <td>1</td>\n",
       "      <td>2</td>\n",
       "      <td>130</td>\n",
       "      <td>283</td>\n",
       "      <td>0</td>\n",
       "      <td>1</td>\n",
       "      <td>98</td>\n",
       "      <td>0</td>\n",
       "      <td>0.0</td>\n",
       "      <td>1</td>\n",
       "      <td>0</td>\n",
       "    </tr>\n",
       "    <tr>\n",
       "      <th>3</th>\n",
       "      <td>48</td>\n",
       "      <td>0</td>\n",
       "      <td>4</td>\n",
       "      <td>138</td>\n",
       "      <td>214</td>\n",
       "      <td>0</td>\n",
       "      <td>0</td>\n",
       "      <td>108</td>\n",
       "      <td>1</td>\n",
       "      <td>1.5</td>\n",
       "      <td>2</td>\n",
       "      <td>1</td>\n",
       "    </tr>\n",
       "    <tr>\n",
       "      <th>4</th>\n",
       "      <td>54</td>\n",
       "      <td>1</td>\n",
       "      <td>3</td>\n",
       "      <td>150</td>\n",
       "      <td>195</td>\n",
       "      <td>0</td>\n",
       "      <td>0</td>\n",
       "      <td>122</td>\n",
       "      <td>0</td>\n",
       "      <td>0.0</td>\n",
       "      <td>1</td>\n",
       "      <td>0</td>\n",
       "    </tr>\n",
       "  </tbody>\n",
       "</table>\n",
       "</div>"
      ],
      "text/plain": [
       "   age  sex  chest pain type  resting bp s  cholesterol  fasting blood sugar  \\\n",
       "0   40    1                2           140          289                    0   \n",
       "1   49    0                3           160          180                    0   \n",
       "2   37    1                2           130          283                    0   \n",
       "3   48    0                4           138          214                    0   \n",
       "4   54    1                3           150          195                    0   \n",
       "\n",
       "   resting ecg  max heart rate  exercise angina  oldpeak  ST slope  target  \n",
       "0            0             172                0      0.0         1       0  \n",
       "1            0             156                0      1.0         2       1  \n",
       "2            1              98                0      0.0         1       0  \n",
       "3            0             108                1      1.5         2       1  \n",
       "4            0             122                0      0.0         1       0  "
      ]
     },
     "execution_count": 469,
     "metadata": {},
     "output_type": "execute_result"
    }
   ],
   "source": [
    "filename = \"heart_statlog_cleveland_hungary_final.csv\"\n",
    "df = pd.read_csv(filename)\n",
    "df.head()"
   ]
  },
  {
   "cell_type": "code",
   "execution_count": 470,
   "metadata": {},
   "outputs": [],
   "source": [
    "colors_class = [\"#D7E8FF\", \"#EF2D1B\"]\n",
    "colors_gender = [\"#F5BCFA\", \"#AEEAF5\"]\n",
    "colors_fbs = [\"#ff0000\", \"#00ff00\"]"
   ]
  },
  {
   "cell_type": "code",
   "execution_count": 471,
   "metadata": {},
   "outputs": [],
   "source": [
    "def get_col_value_counts(pandaSeries, category_dict):\n",
    "    count = pandaSeries.value_counts(sort=False)\n",
    "\n",
    "    for cat_key in category_dict.keys():\n",
    "        count[category_dict[cat_key]] = count.pop(cat_key)\n",
    "\n",
    "    values = [v for v in count]\n",
    "    labels = count.keys()\n",
    "    return values, labels"
   ]
  },
  {
   "cell_type": "code",
   "execution_count": 472,
   "metadata": {},
   "outputs": [],
   "source": [
    "def build_barh(pandasSeries, catDict, title=\"\"):\n",
    "    values, labels = get_col_value_counts(pandasSeries, catDict)\n",
    "    ymin = min(catDict.keys())\n",
    "    ymax=max(catDict.keys())+1\n",
    "    y_coord = range(ymin,ymax)\n",
    "    plt.title(title)\n",
    "    plt.barh(y=y_coord, width=values, tick_label=labels)"
   ]
  },
  {
   "cell_type": "code",
   "execution_count": 473,
   "metadata": {},
   "outputs": [],
   "source": [
    "def build_pie(pandaSeries, catDict, title=\"\", colors=colors_class):\n",
    "    values, labels = get_col_value_counts(pandaSeries, catDict)\n",
    "    plt.pie(values,labels=labels,autopct='%1.1f%%', colors=colors)\n",
    "    plt.title(title)\n",
    "    plt.axis('equal')"
   ]
  },
  {
   "cell_type": "code",
   "execution_count": 474,
   "metadata": {},
   "outputs": [
    {
     "data": {
      "image/png": "[encoded data removed]",
      "text/plain": [
       "<Figure size 432x288 with 1 Axes>"
      ]
     },
     "metadata": {},
     "output_type": "display_data"
    }
   ],
   "source": [
    "category_dict = {0: \"Normal\", \n",
    "                 1: \"Heart Disease\"}\n",
    "build_pie(df[\"target\"], category_dict, title=\"Heart Status\")\n",
    "plt.show()"
   ]
  },
  {
   "cell_type": "code",
   "execution_count": 475,
   "metadata": {},
   "outputs": [
    {
     "data": {
      "image/png": "[encoded data removed]",
      "text/plain": [
       "<Figure size 432x288 with 1 Axes>"
      ]
     },
     "metadata": {},
     "output_type": "display_data"
    }
   ],
   "source": [
    "gender_dict = {0: \"Female\", \n",
    "                 1: \"Male\"}\n",
    "\n",
    "build_pie(df[\"sex\"], gender_dict, title=\"Sex\", colors=colors_gender)\n",
    "\n",
    "plt.show()"
   ]
  },
  {
   "cell_type": "code",
   "execution_count": 476,
   "metadata": {},
   "outputs": [
    {
     "data": {
      "image/png": "[encoded data removed]",
      "text/plain": [
       "<Figure size 1152x360 with 2 Axes>"
      ]
     },
     "metadata": {},
     "output_type": "display_data"
    }
   ],
   "source": [
    "female_df = df[df[\"sex\"] == 0]\n",
    "male_df = df[df[\"sex\"] == 1]\n",
    "\n",
    "category_dict = {0: \"Normal\", \n",
    "                 1: \"Heart Disease\"}\n",
    "\n",
    "_, labels = get_col_value_counts(female_df[\"target\"], category_dict)\n",
    "\n",
    "fig = plt.figure(figsize=(16, 5))\n",
    "\n",
    "plt.subplot(1,2,1)\n",
    "build_pie(female_df[\"target\"], category_dict, title=\"Female\")\n",
    "\n",
    "plt.subplot(1,2,2)\n",
    "build_pie(male_df[\"target\"], category_dict, title=\"Male\")\n",
    "\n",
    "fig.legend(labels=labels, loc=8)\n",
    "\n",
    "plt.show()"
   ]
  },
  {
   "cell_type": "code",
   "execution_count": 477,
   "metadata": {},
   "outputs": [
    {
     "data": {
      "image/png": "[encoded data removed]",
      "text/plain": [
       "<Figure size 432x288 with 1 Axes>"
      ]
     },
     "metadata": {
      "needs_background": "light"
     },
     "output_type": "display_data"
    }
   ],
   "source": [
    "pain_dict = {1: \"typical angina\",\n",
    "                2: \"atypical angina\",\n",
    "                3: \"non-anginal pain\",\n",
    "                4: \"asymptomatic\"}\n",
    "\n",
    "build_barh(df[\"chest pain type\"], pain_dict)\n",
    "\n",
    "plt.show()"
   ]
  },
  {
   "cell_type": "code",
   "execution_count": 478,
   "metadata": {},
   "outputs": [
    {
     "data": {
      "image/png": "[encoded data removed]",
      "text/plain": [
       "<Figure size 432x288 with 1 Axes>"
      ]
     },
     "metadata": {
      "needs_background": "light"
     },
     "output_type": "display_data"
    }
   ],
   "source": [
    "ecg_dict = {0: \"Normal\",\n",
    "                1: \"ST-T wave abnormality\",\n",
    "                2: \"Probable left ventricular hypertrophy\"}\n",
    "\n",
    "build_barh(df[\"resting ecg\"], ecg_dict)\n",
    "\n",
    "plt.show()"
   ]
  },
  {
   "cell_type": "code",
   "execution_count": 479,
   "metadata": {},
   "outputs": [
    {
     "data": {
      "image/png": "[encoded data removed]",
      "text/plain": [
       "<Figure size 1152x648 with 4 Axes>"
      ]
     },
     "metadata": {
      "needs_background": "light"
     },
     "output_type": "display_data"
    }
   ],
   "source": [
    "plt.figure(figsize=(16,9))\n",
    "\n",
    "plt.subplot(221)\n",
    "plt.hist(df[\"age\"], rwidth=0.9)\n",
    "plt.title(\"Age\")\n",
    "\n",
    "plt.subplot(222)\n",
    "plt.hist(df[\"resting bp s\"], rwidth=0.9)\n",
    "plt.title(\"Resting Blood Pressure\")\n",
    "\n",
    "plt.subplot(223)\n",
    "plt.hist(df[\"max heart rate\"], rwidth=0.9)\n",
    "plt.title(\"Maximum Heart Rate\")\n",
    "\n",
    "plt.subplot(224)\n",
    "plt.hist(df[\"cholesterol\"], rwidth=0.9)\n",
    "plt.title(\"Cholesterol\")\n",
    "\n",
    "plt.show()"
   ]
  },
  {
   "cell_type": "code",
   "execution_count": 480,
   "metadata": {},
   "outputs": [
    {
     "data": {
      "image/png": "[encoded data removed]",
      "text/plain": [
       "<Figure size 1152x360 with 2 Axes>"
      ]
     },
     "metadata": {},
     "output_type": "display_data"
    }
   ],
   "source": [
    "plt.figure(figsize=(16,5))\n",
    "\n",
    "sugar_dict = {0: \"< 120 mg/dL\", \n",
    "                 1: \"> 120 mg/dL\"}\n",
    "plt.subplot(121)\n",
    "build_pie(df[\"fasting blood sugar\"], sugar_dict, title=\"Fasting Blood Sugar\")\n",
    "\n",
    "exercise_dict = {0: \"No angina\", \n",
    "                 1: \"Exercise angina\"}\n",
    "plt.subplot(122)\n",
    "build_pie(df[\"exercise angina\"], exercise_dict, title=\"Exercise Angina\")\n",
    "\n",
    "plt.show()"
   ]
  },
  {
   "cell_type": "code",
   "execution_count": 481,
   "metadata": {},
   "outputs": [
    {
     "data": {
      "image/png": "[encoded data removed]",
      "text/plain": [
       "<Figure size 1152x360 with 2 Axes>"
      ]
     },
     "metadata": {
      "needs_background": "light"
     },
     "output_type": "display_data"
    }
   ],
   "source": [
    "plt.figure(figsize=(16,5))\n",
    "\n",
    "slope_dict = {0: \"NA\",\n",
    "                1: \"Upslope\",\n",
    "                2: \"Flat\",\n",
    "                3: \"Downslope\"}\n",
    "\n",
    "plt.subplot(121)\n",
    "build_barh(df[\"ST slope\"], slope_dict, title=\"ST Slope\")\n",
    "\n",
    "plt.subplot(122)\n",
    "plt.hist(df[\"oldpeak\"], rwidth=0.9)\n",
    "plt.title(\"Oldpeak\")\n",
    "\n",
    "plt.show()"
   ]
  },
  {
   "cell_type": "markdown",
   "metadata": {},
   "source": [
    "# Predicting Heart Disease"
   ]
  },
  {
   "cell_type": "markdown",
   "metadata": {},
   "source": [
    "## Preparing data"
   ]
  },
  {
   "cell_type": "code",
   "execution_count": 482,
   "metadata": {},
   "outputs": [
    {
     "data": {
      "text/html": [
       "<div>\n",
       "<style scoped>\n",
       "    .dataframe tbody tr th:only-of-type {\n",
       "        vertical-align: middle;\n",
       "    }\n",
       "\n",
       "    .dataframe tbody tr th {\n",
       "        vertical-align: top;\n",
       "    }\n",
       "\n",
       "    .dataframe thead th {\n",
       "        text-align: right;\n",
       "    }\n",
       "</style>\n",
       "<table border=\"1\" class=\"dataframe\">\n",
       "  <thead>\n",
       "    <tr style=\"text-align: right;\">\n",
       "      <th></th>\n",
       "      <th>age</th>\n",
       "      <th>sex</th>\n",
       "      <th>chest pain type</th>\n",
       "      <th>resting bp s</th>\n",
       "      <th>cholesterol</th>\n",
       "      <th>fasting blood sugar</th>\n",
       "      <th>resting ecg</th>\n",
       "      <th>max heart rate</th>\n",
       "      <th>exercise angina</th>\n",
       "      <th>oldpeak</th>\n",
       "      <th>ST slope</th>\n",
       "      <th>target</th>\n",
       "    </tr>\n",
       "  </thead>\n",
       "  <tbody>\n",
       "    <tr>\n",
       "      <th>0</th>\n",
       "      <td>40</td>\n",
       "      <td>1</td>\n",
       "      <td>2</td>\n",
       "      <td>140</td>\n",
       "      <td>289</td>\n",
       "      <td>0</td>\n",
       "      <td>0</td>\n",
       "      <td>172</td>\n",
       "      <td>0</td>\n",
       "      <td>0.0</td>\n",
       "      <td>1</td>\n",
       "      <td>0</td>\n",
       "    </tr>\n",
       "    <tr>\n",
       "      <th>1</th>\n",
       "      <td>49</td>\n",
       "      <td>0</td>\n",
       "      <td>3</td>\n",
       "      <td>160</td>\n",
       "      <td>180</td>\n",
       "      <td>0</td>\n",
       "      <td>0</td>\n",
       "      <td>156</td>\n",
       "      <td>0</td>\n",
       "      <td>1.0</td>\n",
       "      <td>2</td>\n",
       "      <td>1</td>\n",
       "    </tr>\n",
       "    <tr>\n",
       "      <th>2</th>\n",
       "      <td>37</td>\n",
       "      <td>1</td>\n",
       "      <td>2</td>\n",
       "      <td>130</td>\n",
       "      <td>283</td>\n",
       "      <td>0</td>\n",
       "      <td>1</td>\n",
       "      <td>98</td>\n",
       "      <td>0</td>\n",
       "      <td>0.0</td>\n",
       "      <td>1</td>\n",
       "      <td>0</td>\n",
       "    </tr>\n",
       "    <tr>\n",
       "      <th>3</th>\n",
       "      <td>48</td>\n",
       "      <td>0</td>\n",
       "      <td>4</td>\n",
       "      <td>138</td>\n",
       "      <td>214</td>\n",
       "      <td>0</td>\n",
       "      <td>0</td>\n",
       "      <td>108</td>\n",
       "      <td>1</td>\n",
       "      <td>1.5</td>\n",
       "      <td>2</td>\n",
       "      <td>1</td>\n",
       "    </tr>\n",
       "    <tr>\n",
       "      <th>4</th>\n",
       "      <td>54</td>\n",
       "      <td>1</td>\n",
       "      <td>3</td>\n",
       "      <td>150</td>\n",
       "      <td>195</td>\n",
       "      <td>0</td>\n",
       "      <td>0</td>\n",
       "      <td>122</td>\n",
       "      <td>0</td>\n",
       "      <td>0.0</td>\n",
       "      <td>1</td>\n",
       "      <td>0</td>\n",
       "    </tr>\n",
       "  </tbody>\n",
       "</table>\n",
       "</div>"
      ],
      "text/plain": [
       "   age  sex  chest pain type  resting bp s  cholesterol  fasting blood sugar  \\\n",
       "0   40    1                2           140          289                    0   \n",
       "1   49    0                3           160          180                    0   \n",
       "2   37    1                2           130          283                    0   \n",
       "3   48    0                4           138          214                    0   \n",
       "4   54    1                3           150          195                    0   \n",
       "\n",
       "   resting ecg  max heart rate  exercise angina  oldpeak  ST slope  target  \n",
       "0            0             172                0      0.0         1       0  \n",
       "1            0             156                0      1.0         2       1  \n",
       "2            1              98                0      0.0         1       0  \n",
       "3            0             108                1      1.5         2       1  \n",
       "4            0             122                0      0.0         1       0  "
      ]
     },
     "metadata": {},
     "output_type": "display_data"
    },
    {
     "data": {
      "text/html": [
       "<div>\n",
       "<style scoped>\n",
       "    .dataframe tbody tr th:only-of-type {\n",
       "        vertical-align: middle;\n",
       "    }\n",
       "\n",
       "    .dataframe tbody tr th {\n",
       "        vertical-align: top;\n",
       "    }\n",
       "\n",
       "    .dataframe thead th {\n",
       "        text-align: right;\n",
       "    }\n",
       "</style>\n",
       "<table border=\"1\" class=\"dataframe\">\n",
       "  <thead>\n",
       "    <tr style=\"text-align: right;\">\n",
       "      <th></th>\n",
       "      <th>age</th>\n",
       "      <th>sex</th>\n",
       "      <th>chest pain type</th>\n",
       "      <th>resting bp s</th>\n",
       "      <th>cholesterol</th>\n",
       "      <th>fasting blood sugar</th>\n",
       "      <th>resting ecg</th>\n",
       "      <th>max heart rate</th>\n",
       "      <th>exercise angina</th>\n",
       "      <th>oldpeak</th>\n",
       "      <th>ST slope</th>\n",
       "    </tr>\n",
       "  </thead>\n",
       "  <tbody>\n",
       "    <tr>\n",
       "      <th>0</th>\n",
       "      <td>40</td>\n",
       "      <td>Male</td>\n",
       "      <td>atypical angina</td>\n",
       "      <td>140</td>\n",
       "      <td>289</td>\n",
       "      <td>&lt; 120 mg/dL</td>\n",
       "      <td>Normal</td>\n",
       "      <td>172</td>\n",
       "      <td>No angina</td>\n",
       "      <td>0.0</td>\n",
       "      <td>Upslope</td>\n",
       "    </tr>\n",
       "    <tr>\n",
       "      <th>1</th>\n",
       "      <td>49</td>\n",
       "      <td>Female</td>\n",
       "      <td>non-anginal pain</td>\n",
       "      <td>160</td>\n",
       "      <td>180</td>\n",
       "      <td>&lt; 120 mg/dL</td>\n",
       "      <td>Normal</td>\n",
       "      <td>156</td>\n",
       "      <td>No angina</td>\n",
       "      <td>1.0</td>\n",
       "      <td>Flat</td>\n",
       "    </tr>\n",
       "    <tr>\n",
       "      <th>2</th>\n",
       "      <td>37</td>\n",
       "      <td>Male</td>\n",
       "      <td>atypical angina</td>\n",
       "      <td>130</td>\n",
       "      <td>283</td>\n",
       "      <td>&lt; 120 mg/dL</td>\n",
       "      <td>ST-T wave abnormality</td>\n",
       "      <td>98</td>\n",
       "      <td>No angina</td>\n",
       "      <td>0.0</td>\n",
       "      <td>Upslope</td>\n",
       "    </tr>\n",
       "    <tr>\n",
       "      <th>3</th>\n",
       "      <td>48</td>\n",
       "      <td>Female</td>\n",
       "      <td>asymptomatic</td>\n",
       "      <td>138</td>\n",
       "      <td>214</td>\n",
       "      <td>&lt; 120 mg/dL</td>\n",
       "      <td>Normal</td>\n",
       "      <td>108</td>\n",
       "      <td>Exercise angina</td>\n",
       "      <td>1.5</td>\n",
       "      <td>Flat</td>\n",
       "    </tr>\n",
       "    <tr>\n",
       "      <th>4</th>\n",
       "      <td>54</td>\n",
       "      <td>Male</td>\n",
       "      <td>non-anginal pain</td>\n",
       "      <td>150</td>\n",
       "      <td>195</td>\n",
       "      <td>&lt; 120 mg/dL</td>\n",
       "      <td>Normal</td>\n",
       "      <td>122</td>\n",
       "      <td>No angina</td>\n",
       "      <td>0.0</td>\n",
       "      <td>Upslope</td>\n",
       "    </tr>\n",
       "  </tbody>\n",
       "</table>\n",
       "</div>"
      ],
      "text/plain": [
       "   age     sex   chest pain type  resting bp s  cholesterol  \\\n",
       "0   40    Male   atypical angina           140          289   \n",
       "1   49  Female  non-anginal pain           160          180   \n",
       "2   37    Male   atypical angina           130          283   \n",
       "3   48  Female      asymptomatic           138          214   \n",
       "4   54    Male  non-anginal pain           150          195   \n",
       "\n",
       "  fasting blood sugar            resting ecg  max heart rate  exercise angina  \\\n",
       "0         < 120 mg/dL                 Normal             172        No angina   \n",
       "1         < 120 mg/dL                 Normal             156        No angina   \n",
       "2         < 120 mg/dL  ST-T wave abnormality              98        No angina   \n",
       "3         < 120 mg/dL                 Normal             108  Exercise angina   \n",
       "4         < 120 mg/dL                 Normal             122        No angina   \n",
       "\n",
       "   oldpeak ST slope  \n",
       "0      0.0  Upslope  \n",
       "1      1.0     Flat  \n",
       "2      0.0  Upslope  \n",
       "3      1.5     Flat  \n",
       "4      0.0  Upslope  "
      ]
     },
     "metadata": {},
     "output_type": "display_data"
    }
   ],
   "source": [
    "features = df.drop(\"target\", axis=1)\n",
    "\n",
    "features[\"sex\"].replace(gender_dict, inplace=True)\n",
    "features[\"chest pain type\"].replace(pain_dict, inplace=True)\n",
    "features[\"fasting blood sugar\"].replace(sugar_dict, inplace=True)\n",
    "features[\"resting ecg\"].replace(ecg_dict, inplace=True)\n",
    "features[\"exercise angina\"].replace(exercise_dict, inplace=True)\n",
    "features[\"ST slope\"].replace(slope_dict, inplace=True)\n",
    "\n",
    "display(df.head())\n",
    "display(features.head())"
   ]
  },
  {
   "cell_type": "code",
   "execution_count": 483,
   "metadata": {},
   "outputs": [
    {
     "data": {
      "text/html": [
       "<div>\n",
       "<style scoped>\n",
       "    .dataframe tbody tr th:only-of-type {\n",
       "        vertical-align: middle;\n",
       "    }\n",
       "\n",
       "    .dataframe tbody tr th {\n",
       "        vertical-align: top;\n",
       "    }\n",
       "\n",
       "    .dataframe thead th {\n",
       "        text-align: right;\n",
       "    }\n",
       "</style>\n",
       "<table border=\"1\" class=\"dataframe\">\n",
       "  <thead>\n",
       "    <tr style=\"text-align: right;\">\n",
       "      <th></th>\n",
       "      <th>age</th>\n",
       "      <th>resting bp s</th>\n",
       "      <th>cholesterol</th>\n",
       "      <th>max heart rate</th>\n",
       "      <th>oldpeak</th>\n",
       "      <th>sex_Female</th>\n",
       "      <th>sex_Male</th>\n",
       "      <th>chest pain type_asymptomatic</th>\n",
       "      <th>chest pain type_atypical angina</th>\n",
       "      <th>chest pain type_non-anginal pain</th>\n",
       "      <th>...</th>\n",
       "      <th>fasting blood sugar_&gt; 120 mg/dL</th>\n",
       "      <th>resting ecg_Normal</th>\n",
       "      <th>resting ecg_Probable left ventricular hypertrophy</th>\n",
       "      <th>resting ecg_ST-T wave abnormality</th>\n",
       "      <th>exercise angina_Exercise angina</th>\n",
       "      <th>exercise angina_No angina</th>\n",
       "      <th>ST slope_Downslope</th>\n",
       "      <th>ST slope_Flat</th>\n",
       "      <th>ST slope_NA</th>\n",
       "      <th>ST slope_Upslope</th>\n",
       "    </tr>\n",
       "  </thead>\n",
       "  <tbody>\n",
       "    <tr>\n",
       "      <th>0</th>\n",
       "      <td>40</td>\n",
       "      <td>140</td>\n",
       "      <td>289</td>\n",
       "      <td>172</td>\n",
       "      <td>0.0</td>\n",
       "      <td>0</td>\n",
       "      <td>1</td>\n",
       "      <td>0</td>\n",
       "      <td>1</td>\n",
       "      <td>0</td>\n",
       "      <td>...</td>\n",
       "      <td>0</td>\n",
       "      <td>1</td>\n",
       "      <td>0</td>\n",
       "      <td>0</td>\n",
       "      <td>0</td>\n",
       "      <td>1</td>\n",
       "      <td>0</td>\n",
       "      <td>0</td>\n",
       "      <td>0</td>\n",
       "      <td>1</td>\n",
       "    </tr>\n",
       "    <tr>\n",
       "      <th>1</th>\n",
       "      <td>49</td>\n",
       "      <td>160</td>\n",
       "      <td>180</td>\n",
       "      <td>156</td>\n",
       "      <td>1.0</td>\n",
       "      <td>1</td>\n",
       "      <td>0</td>\n",
       "      <td>0</td>\n",
       "      <td>0</td>\n",
       "      <td>1</td>\n",
       "      <td>...</td>\n",
       "      <td>0</td>\n",
       "      <td>1</td>\n",
       "      <td>0</td>\n",
       "      <td>0</td>\n",
       "      <td>0</td>\n",
       "      <td>1</td>\n",
       "      <td>0</td>\n",
       "      <td>1</td>\n",
       "      <td>0</td>\n",
       "      <td>0</td>\n",
       "    </tr>\n",
       "    <tr>\n",
       "      <th>2</th>\n",
       "      <td>37</td>\n",
       "      <td>130</td>\n",
       "      <td>283</td>\n",
       "      <td>98</td>\n",
       "      <td>0.0</td>\n",
       "      <td>0</td>\n",
       "      <td>1</td>\n",
       "      <td>0</td>\n",
       "      <td>1</td>\n",
       "      <td>0</td>\n",
       "      <td>...</td>\n",
       "      <td>0</td>\n",
       "      <td>0</td>\n",
       "      <td>0</td>\n",
       "      <td>1</td>\n",
       "      <td>0</td>\n",
       "      <td>1</td>\n",
       "      <td>0</td>\n",
       "      <td>0</td>\n",
       "      <td>0</td>\n",
       "      <td>1</td>\n",
       "    </tr>\n",
       "    <tr>\n",
       "      <th>3</th>\n",
       "      <td>48</td>\n",
       "      <td>138</td>\n",
       "      <td>214</td>\n",
       "      <td>108</td>\n",
       "      <td>1.5</td>\n",
       "      <td>1</td>\n",
       "      <td>0</td>\n",
       "      <td>1</td>\n",
       "      <td>0</td>\n",
       "      <td>0</td>\n",
       "      <td>...</td>\n",
       "      <td>0</td>\n",
       "      <td>1</td>\n",
       "      <td>0</td>\n",
       "      <td>0</td>\n",
       "      <td>1</td>\n",
       "      <td>0</td>\n",
       "      <td>0</td>\n",
       "      <td>1</td>\n",
       "      <td>0</td>\n",
       "      <td>0</td>\n",
       "    </tr>\n",
       "    <tr>\n",
       "      <th>4</th>\n",
       "      <td>54</td>\n",
       "      <td>150</td>\n",
       "      <td>195</td>\n",
       "      <td>122</td>\n",
       "      <td>0.0</td>\n",
       "      <td>0</td>\n",
       "      <td>1</td>\n",
       "      <td>0</td>\n",
       "      <td>0</td>\n",
       "      <td>1</td>\n",
       "      <td>...</td>\n",
       "      <td>0</td>\n",
       "      <td>1</td>\n",
       "      <td>0</td>\n",
       "      <td>0</td>\n",
       "      <td>0</td>\n",
       "      <td>1</td>\n",
       "      <td>0</td>\n",
       "      <td>0</td>\n",
       "      <td>0</td>\n",
       "      <td>1</td>\n",
       "    </tr>\n",
       "  </tbody>\n",
       "</table>\n",
       "<p>5 rows × 22 columns</p>\n",
       "</div>"
      ],
      "text/plain": [
       "   age  resting bp s  cholesterol  max heart rate  oldpeak  sex_Female  \\\n",
       "0   40           140          289             172      0.0           0   \n",
       "1   49           160          180             156      1.0           1   \n",
       "2   37           130          283              98      0.0           0   \n",
       "3   48           138          214             108      1.5           1   \n",
       "4   54           150          195             122      0.0           0   \n",
       "\n",
       "   sex_Male  chest pain type_asymptomatic  chest pain type_atypical angina  \\\n",
       "0         1                             0                                1   \n",
       "1         0                             0                                0   \n",
       "2         1                             0                                1   \n",
       "3         0                             1                                0   \n",
       "4         1                             0                                0   \n",
       "\n",
       "   chest pain type_non-anginal pain  ...  fasting blood sugar_> 120 mg/dL  \\\n",
       "0                                 0  ...                                0   \n",
       "1                                 1  ...                                0   \n",
       "2                                 0  ...                                0   \n",
       "3                                 0  ...                                0   \n",
       "4                                 1  ...                                0   \n",
       "\n",
       "   resting ecg_Normal  resting ecg_Probable left ventricular hypertrophy  \\\n",
       "0                   1                                                  0   \n",
       "1                   1                                                  0   \n",
       "2                   0                                                  0   \n",
       "3                   1                                                  0   \n",
       "4                   1                                                  0   \n",
       "\n",
       "   resting ecg_ST-T wave abnormality  exercise angina_Exercise angina  \\\n",
       "0                                  0                                0   \n",
       "1                                  0                                0   \n",
       "2                                  1                                0   \n",
       "3                                  0                                1   \n",
       "4                                  0                                0   \n",
       "\n",
       "   exercise angina_No angina  ST slope_Downslope  ST slope_Flat  ST slope_NA  \\\n",
       "0                          1                   0              0            0   \n",
       "1                          1                   0              1            0   \n",
       "2                          1                   0              0            0   \n",
       "3                          0                   0              1            0   \n",
       "4                          1                   0              0            0   \n",
       "\n",
       "   ST slope_Upslope  \n",
       "0                 1  \n",
       "1                 0  \n",
       "2                 1  \n",
       "3                 0  \n",
       "4                 1  \n",
       "\n",
       "[5 rows x 22 columns]"
      ]
     },
     "execution_count": 483,
     "metadata": {},
     "output_type": "execute_result"
    }
   ],
   "source": [
    "features = pd.get_dummies(features)\n",
    "\n",
    "features.head()"
   ]
  },
  {
   "cell_type": "code",
   "execution_count": 484,
   "metadata": {},
   "outputs": [],
   "source": [
    "targets = np.array(df[\"target\"])\n",
    "feature_list = list(features.columns)\n",
    "features = np.array(features)"
   ]
  },
  {
   "cell_type": "code",
   "execution_count": 485,
   "metadata": {},
   "outputs": [],
   "source": [
    "train_features, test_features, train_labels, test_labels = train_test_split(features, targets, test_size=0.3)"
   ]
  },
  {
   "cell_type": "markdown",
   "metadata": {},
   "source": [
    "## Random Forest"
   ]
  },
  {
   "cell_type": "code",
   "execution_count": 486,
   "metadata": {},
   "outputs": [
    {
     "data": {
      "text/plain": [
       "RandomForestRegressor(n_estimators=10000)"
      ]
     },
     "execution_count": 486,
     "metadata": {},
     "output_type": "execute_result"
    }
   ],
   "source": [
    "rf = RandomForestRegressor(n_estimators=10000)\n",
    "rf.fit(train_features, train_labels)"
   ]
  },
  {
   "cell_type": "code",
   "execution_count": 487,
   "metadata": {},
   "outputs": [
    {
     "name": "stdout",
     "output_type": "stream",
     "text": [
      "Average precision: 93.78%\n"
     ]
    }
   ],
   "source": [
    "score = rf.predict(test_features)\n",
    "ap = average_precision_score(test_labels, score)\n",
    "ap = ap*100\n",
    "print(\"Average precision: %0.2f%%\" % ap)"
   ]
  },
  {
   "cell_type": "code",
   "execution_count": 488,
   "metadata": {},
   "outputs": [
    {
     "data": {
      "image/png": "[encoded data removed]",
      "text/plain": [
       "<Figure size 432x288 with 1 Axes>"
      ]
     },
     "metadata": {
      "needs_background": "light"
     },
     "output_type": "display_data"
    },
    {
     "name": "stdout",
     "output_type": "stream",
     "text": [
      "Maximum F1-score is 0.92 at a threshold level of 0.45\n"
     ]
    }
   ],
   "source": [
    "threshold = []\n",
    "f1 = []\n",
    "for t in range(0, 105, 5):\n",
    "    results = [1 if s >= (t/100) else 0 for s in score]\n",
    "    threshold.append(t/100)\n",
    "    f1.append(f1_score(test_labels, results))\n",
    "    \n",
    "plt.scatter(threshold, f1)\n",
    "plt.show()\n",
    "\n",
    "opt_threshold = threshold[f1.index(max(f1))]\n",
    "print(\"Maximum F1-score is %0.2f at a threshold level of %0.2f\" % (max(f1), opt_threshold))\n",
    "\n",
    "results = [1 if s >= opt_threshold else 0 for s in score]"
   ]
  },
  {
   "cell_type": "markdown",
   "metadata": {},
   "source": [
    "## SVM"
   ]
  },
  {
   "cell_type": "code",
   "execution_count": 489,
   "metadata": {},
   "outputs": [
    {
     "name": "stdout",
     "output_type": "stream",
     "text": [
      "Using linear kernel,\n",
      "\tF1-score: 0.87\n",
      "\tAverage precision: 82.89%\n",
      "Using poly kernel,\n",
      "\tF1-score: 0.72\n",
      "\tAverage precision: 64.00%\n",
      "Using rbf kernel,\n",
      "\tF1-score: 0.72\n",
      "\tAverage precision: 66.03%\n",
      "Using sigmoid kernel,\n",
      "\tF1-score: 0.53\n",
      "\tAverage precision: 50.69%\n"
     ]
    }
   ],
   "source": [
    "kernel_list = [\"linear\", \"poly\", \"rbf\", \"sigmoid\"]\n",
    "max_degree = 10\n",
    "\n",
    "for kernel in kernel_list:\n",
    "    svm_clf = svm.SVC(kernel=kernel)\n",
    "    svm_clf = svm.SVC(kernel=kernel)\n",
    "    svm_clf.fit(train_features, train_labels)\n",
    "    pred = svm_clf.predict(test_features)\n",
    "    print(\"Using %s kernel,\\n\\tF1-score: %0.2f\" % (kernel,f1_score(test_labels, pred)))\n",
    "\n",
    "    ap = average_precision_score(test_labels, pred)\n",
    "    ap = ap*100\n",
    "    print(\"\\tAverage precision: %0.2f%%\" % ap)"
   ]
  },
  {
   "cell_type": "markdown",
   "metadata": {},
   "source": [
    "## Neural Network"
   ]
  },
  {
   "cell_type": "code",
   "execution_count": 492,
   "metadata": {},
   "outputs": [
    {
     "data": {
      "text/plain": [
       "MLPClassifier(alpha=1e-05, hidden_layer_sizes=(1000, 900), solver='sgd')"
      ]
     },
     "execution_count": 492,
     "metadata": {},
     "output_type": "execute_result"
    }
   ],
   "source": [
    "mlp_clf = MLPClassifier(solver=\"sgd\", alpha=1e-5, hidden_layer_sizes=(1000,900))\n",
    "mlp_clf.fit(train_features, train_labels)"
   ]
  },
  {
   "cell_type": "code",
   "execution_count": 493,
   "metadata": {},
   "outputs": [
    {
     "name": "stdout",
     "output_type": "stream",
     "text": [
      "F1-score: 0.74\n"
     ]
    }
   ],
   "source": [
    "mlp_pred = mlp_clf.predict(test_features)\n",
    "\n",
    "print(\"F1-score: %0.2f\" % f1_score(test_labels, mlp_pred))\n",
    "#print(\"\\tAverage precision: %0.2f%%\" % average_precision_score(test_labels, mlp_pred)*100)"
   ]
  }
 ],
 "metadata": {
  "kernelspec": {
   "display_name": "Python 3",
   "language": "python",
   "name": "python3"
  },
  "language_info": {
   "codemirror_mode": {
    "name": "ipython",
    "version": 3
   },
   "file_extension": ".py",
   "mimetype": "text/x-python",
   "name": "python",
   "nbconvert_exporter": "python",
   "pygments_lexer": "ipython3",
   "version": "3.8.5"
  }
 },
 "nbformat": 4,
 "nbformat_minor": 4
}
