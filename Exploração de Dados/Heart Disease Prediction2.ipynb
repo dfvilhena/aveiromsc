{
 "cells": [
  {
   "cell_type": "markdown",
   "metadata": {},
   "source": [
    "# Heart Disease Prediction\n",
    "\n",
    "Following a current trend in clinical diagnosis, where machine learning is applied to medical data in order to predict health conditions, this notebook shows a first approach to solving such problem.\n",
    "\n",
    "The notebook is divided into two main sections:\n",
    "1. Medical context and data summary\n",
    "2. Data characterization\n",
    "    * Data visualization\n",
    "3. Classification models\n",
    "    * Random Forest\n",
    "    * Support Vector Machine (SVM)\n",
    "    * Multilayer Perceptron (MLP)\n",
    "\n",
    "At the end, a summary and conclusion is presented.\n",
    "\n",
    "Dataset was extracted from https://ieee-dataport.org/open-access/heart-disease-dataset-comprehensive on February 21st, 2021."
   ]
  },
  {
   "cell_type": "markdown",
   "metadata": {},
   "source": [
    "## Medical Context and Data Summary\n",
    "\n",
    "The data used contains clinical information regarding a series of patients, namely:\n",
    "* Age\n",
    "* Sex\n",
    "* Type of chest pain\n",
    "* Resting blood pressure\n",
    "* Serum cholesterol\n",
    "* Fasting blood sugar\n",
    "* Electrocardiogram (ECG) results\n",
    "* Heart rate\n",
    "* Presence of heart disease\n",
    "\n",
    "What some of these mean is already known to us - age, sex, heart rate, presence of heart disease, blood pressure, cholesterol, blood sugar - the remaining ones are described below.\n",
    "\n",
    "### Type of Chest Pain\n",
    "\n",
    "Chest pains in this data set are described as one of the following four categories:\n",
    "1. Typical angina\n",
    "2. Atypical angina\n",
    "3. Non-anginal pain\n",
    "4. Asymptomatic (i.e. no pain)\n",
    "\n",
    "As such to comprehend the categories, we need to define angina [1]:\n",
    "\n",
    "> **Angina:**  \n",
    "_Chest pain caused by reduced blood flow to the heart muscles._\n",
    "\n",
    "This can be further differentiated in _typical_ and _atypical_ anginas:\n",
    "\n",
    "> **Typical angina:**  \n",
    "_Episodes with a trigier (such as stress or exercisce) that stop within a few minutes of resting._  \n",
    "**Atypical angina:**  \n",
    "_Episodes may not have a trigger and can continue despite resting._\n",
    "\n",
    "### Electrocardiogram segments\n",
    "\n",
    "Some of the features in the data relate to specific information in ECG results, a schematic of such is seen in Fig. 1.\n",
    "\n",
    "<img src=\"https://upload.wikimedia.org/wikipedia/commons/thumb/9/9e/SinusRhythmLabels.svg/1024px-SinusRhythmLabels.svg.png\" width=\"400\">\n",
    "<center>Fig. 1 - Schematic of a regular ECG</center>\n",
    "\n",
    "Information on the dataset pertains to ST-T wave abnormalities, Estes' criteria, slope of the ST segment and the ST depression induced by exercise relative to rest [2]. Definitions relevant to the dataset used are described below.\n",
    "\n",
    "> **De/Repolarization:**  \n",
    "_Changes in the polarization of the cell's membrane potential._  \n",
    "\n",
    "> **ST Segment:**  \n",
    "_Represents the period when the ventricles are depolarized._  \n",
    "> **T Wave:**  \n",
    "_Represents repolarization of the ventricles._  \n",
    "\n",
    "> **Estes' Criteria:**  \n",
    "_Set of criteria to determine the probability of Left Ventricular Hypertrophy._  \n",
    "\n",
    "\n",
    "### Problem Statement\n",
    "\n",
    "With all the data available, the question if there is any underlying pattern concerning heart diseases and if it can be used for predictions rises. This problem has been tackled before in literature [3, 4]. Here a first approach to answering that question is presented. For this, three different machine learning models are attempted:\n",
    "* Random Forest\n",
    "* SVM (linear, polynomial, RBF and sigmoid kernels)\n",
    "* Multilayer Perceptron"
   ]
  },
  {
   "cell_type": "markdown",
   "metadata": {},
   "source": [
    "## Data Characterization and Visualization\n",
    "\n",
    "In this section, exploration of the dataset is presented with accompanying visualizations and (when appliable) statistical metrics. A sample of the dataset is shown below."
   ]
  },
  {
   "cell_type": "code",
   "execution_count": 1,
   "metadata": {},
   "outputs": [],
   "source": [
    "%matplotlib inline\n",
    "import pandas as pd\n",
    "import matplotlib.pyplot as plt\n",
    "import numpy as np\n",
    "from sklearn.model_selection import train_test_split\n",
    "from sklearn.ensemble import RandomForestRegressor\n",
    "from sklearn import svm\n",
    "from sklearn.neural_network import MLPClassifier\n",
    "from sklearn.metrics import average_precision_score, precision_recall_curve, plot_precision_recall_curve, f1_score, plot_confusion_matrix"
   ]
  },
  {
   "cell_type": "code",
   "execution_count": 2,
   "metadata": {},
   "outputs": [
    {
     "data": {
      "text/html": [
       "<div>\n",
       "<style scoped>\n",
       "    .dataframe tbody tr th:only-of-type {\n",
       "        vertical-align: middle;\n",
       "    }\n",
       "\n",
       "    .dataframe tbody tr th {\n",
       "        vertical-align: top;\n",
       "    }\n",
       "\n",
       "    .dataframe thead th {\n",
       "        text-align: right;\n",
       "    }\n",
       "</style>\n",
       "<table border=\"1\" class=\"dataframe\">\n",
       "  <thead>\n",
       "    <tr style=\"text-align: right;\">\n",
       "      <th></th>\n",
       "      <th>age</th>\n",
       "      <th>sex</th>\n",
       "      <th>chest pain type</th>\n",
       "      <th>resting bp s</th>\n",
       "      <th>cholesterol</th>\n",
       "      <th>fasting blood sugar</th>\n",
       "      <th>resting ecg</th>\n",
       "      <th>max heart rate</th>\n",
       "      <th>exercise angina</th>\n",
       "      <th>oldpeak</th>\n",
       "      <th>ST slope</th>\n",
       "      <th>target</th>\n",
       "    </tr>\n",
       "  </thead>\n",
       "  <tbody>\n",
       "    <tr>\n",
       "      <th>0</th>\n",
       "      <td>40</td>\n",
       "      <td>1</td>\n",
       "      <td>2</td>\n",
       "      <td>140</td>\n",
       "      <td>289</td>\n",
       "      <td>0</td>\n",
       "      <td>0</td>\n",
       "      <td>172</td>\n",
       "      <td>0</td>\n",
       "      <td>0.0</td>\n",
       "      <td>1</td>\n",
       "      <td>0</td>\n",
       "    </tr>\n",
       "    <tr>\n",
       "      <th>1</th>\n",
       "      <td>49</td>\n",
       "      <td>0</td>\n",
       "      <td>3</td>\n",
       "      <td>160</td>\n",
       "      <td>180</td>\n",
       "      <td>0</td>\n",
       "      <td>0</td>\n",
       "      <td>156</td>\n",
       "      <td>0</td>\n",
       "      <td>1.0</td>\n",
       "      <td>2</td>\n",
       "      <td>1</td>\n",
       "    </tr>\n",
       "    <tr>\n",
       "      <th>2</th>\n",
       "      <td>37</td>\n",
       "      <td>1</td>\n",
       "      <td>2</td>\n",
       "      <td>130</td>\n",
       "      <td>283</td>\n",
       "      <td>0</td>\n",
       "      <td>1</td>\n",
       "      <td>98</td>\n",
       "      <td>0</td>\n",
       "      <td>0.0</td>\n",
       "      <td>1</td>\n",
       "      <td>0</td>\n",
       "    </tr>\n",
       "    <tr>\n",
       "      <th>3</th>\n",
       "      <td>48</td>\n",
       "      <td>0</td>\n",
       "      <td>4</td>\n",
       "      <td>138</td>\n",
       "      <td>214</td>\n",
       "      <td>0</td>\n",
       "      <td>0</td>\n",
       "      <td>108</td>\n",
       "      <td>1</td>\n",
       "      <td>1.5</td>\n",
       "      <td>2</td>\n",
       "      <td>1</td>\n",
       "    </tr>\n",
       "    <tr>\n",
       "      <th>4</th>\n",
       "      <td>54</td>\n",
       "      <td>1</td>\n",
       "      <td>3</td>\n",
       "      <td>150</td>\n",
       "      <td>195</td>\n",
       "      <td>0</td>\n",
       "      <td>0</td>\n",
       "      <td>122</td>\n",
       "      <td>0</td>\n",
       "      <td>0.0</td>\n",
       "      <td>1</td>\n",
       "      <td>0</td>\n",
       "    </tr>\n",
       "  </tbody>\n",
       "</table>\n",
       "</div>"
      ],
      "text/plain": [
       "   age  sex  chest pain type  resting bp s  cholesterol  fasting blood sugar  \\\n",
       "0   40    1                2           140          289                    0   \n",
       "1   49    0                3           160          180                    0   \n",
       "2   37    1                2           130          283                    0   \n",
       "3   48    0                4           138          214                    0   \n",
       "4   54    1                3           150          195                    0   \n",
       "\n",
       "   resting ecg  max heart rate  exercise angina  oldpeak  ST slope  target  \n",
       "0            0             172                0      0.0         1       0  \n",
       "1            0             156                0      1.0         2       1  \n",
       "2            1              98                0      0.0         1       0  \n",
       "3            0             108                1      1.5         2       1  \n",
       "4            0             122                0      0.0         1       0  "
      ]
     },
     "execution_count": 2,
     "metadata": {},
     "output_type": "execute_result"
    }
   ],
   "source": [
    "filename = \"heart_statlog_cleveland_hungary_final.csv\"\n",
    "df = pd.read_csv(filename)\n",
    "df.head()"
   ]
  },
  {
   "cell_type": "code",
   "execution_count": 3,
   "metadata": {},
   "outputs": [
    {
     "data": {
      "text/plain": [
       "age                      int64\n",
       "sex                      int64\n",
       "chest pain type          int64\n",
       "resting bp s             int64\n",
       "cholesterol              int64\n",
       "fasting blood sugar      int64\n",
       "resting ecg              int64\n",
       "max heart rate           int64\n",
       "exercise angina          int64\n",
       "oldpeak                float64\n",
       "ST slope                 int64\n",
       "target                   int64\n",
       "dtype: object"
      ]
     },
     "execution_count": 3,
     "metadata": {},
     "output_type": "execute_result"
    }
   ],
   "source": [
    "df.dtypes"
   ]
  },
  {
   "cell_type": "markdown",
   "metadata": {},
   "source": [
    "Following the documentation provided with the dataset:\n",
    "\n",
    "Numerical attributes (units between square brackets):  \n",
    "* age \\[year\\]  \n",
    "* resting bp s (resting blood pressure) \\[mm Hg\\]  \n",
    "* cholesterol (serum cholesterol) \\[mg/dL\\]\n",
    "* max heart rate (maximum heart rate achieved) \\[bpm\\]\n",
    "* oldpeak (ST depression) - units not given\n",
    "\n",
    "Categorical attributes:\n",
    "* sex  \n",
    "    0 = Female  \n",
    "    1 = Male  \n",
    "* chest pain type  \n",
    "    1 = Typical angina  \n",
    "    2 = Atypical angina  \n",
    "    3 = Non-anginal pain  \n",
    "    4 = Asymptomatic\n",
    "* fasting blood sugar  \n",
    "    0 = Fasting blood sugar < 120 mg/dL  \n",
    "    1 = Fasting blood sugar > 120 mg/dL\n",
    "* resting ecg  \n",
    "    0 = Normal  \n",
    "    1 = ST-T wave abnormality  \n",
    "    2 = Probable/Definite left ventricular hypertrophy by Estes' criteria\n",
    "* exercise angina  \n",
    "    0 = No exercise induced angina  \n",
    "    1 = Exercise induced agina\n",
    "* ST slope  \n",
    "    1 = Positive slope  \n",
    "    2 = Flat  \n",
    "    3 = Negative slope\n",
    "* class  \n",
    "    0 = No heart disease  \n",
    "    1 = Heart disease\n",
    "    \n",
    "For the numerical categories, a table with common univariate statistical metrics is shown below."
   ]
  },
  {
   "cell_type": "code",
   "execution_count": 4,
   "metadata": {},
   "outputs": [
    {
     "data": {
      "text/html": [
       "<div>\n",
       "<style scoped>\n",
       "    .dataframe tbody tr th:only-of-type {\n",
       "        vertical-align: middle;\n",
       "    }\n",
       "\n",
       "    .dataframe tbody tr th {\n",
       "        vertical-align: top;\n",
       "    }\n",
       "\n",
       "    .dataframe thead th {\n",
       "        text-align: right;\n",
       "    }\n",
       "</style>\n",
       "<table border=\"1\" class=\"dataframe\">\n",
       "  <thead>\n",
       "    <tr style=\"text-align: right;\">\n",
       "      <th></th>\n",
       "      <th>age</th>\n",
       "      <th>resting bp s</th>\n",
       "      <th>cholesterol</th>\n",
       "      <th>max heart rate</th>\n",
       "      <th>oldpeak</th>\n",
       "    </tr>\n",
       "  </thead>\n",
       "  <tbody>\n",
       "    <tr>\n",
       "      <th>count</th>\n",
       "      <td>1190.000000</td>\n",
       "      <td>1190.000000</td>\n",
       "      <td>1190.000000</td>\n",
       "      <td>1190.000000</td>\n",
       "      <td>1190.000000</td>\n",
       "    </tr>\n",
       "    <tr>\n",
       "      <th>mean</th>\n",
       "      <td>53.720168</td>\n",
       "      <td>132.153782</td>\n",
       "      <td>210.363866</td>\n",
       "      <td>139.732773</td>\n",
       "      <td>0.922773</td>\n",
       "    </tr>\n",
       "    <tr>\n",
       "      <th>std</th>\n",
       "      <td>9.358203</td>\n",
       "      <td>18.368823</td>\n",
       "      <td>101.420489</td>\n",
       "      <td>25.517636</td>\n",
       "      <td>1.086337</td>\n",
       "    </tr>\n",
       "    <tr>\n",
       "      <th>min</th>\n",
       "      <td>28.000000</td>\n",
       "      <td>0.000000</td>\n",
       "      <td>0.000000</td>\n",
       "      <td>60.000000</td>\n",
       "      <td>-2.600000</td>\n",
       "    </tr>\n",
       "    <tr>\n",
       "      <th>25%</th>\n",
       "      <td>47.000000</td>\n",
       "      <td>120.000000</td>\n",
       "      <td>188.000000</td>\n",
       "      <td>121.000000</td>\n",
       "      <td>0.000000</td>\n",
       "    </tr>\n",
       "    <tr>\n",
       "      <th>50%</th>\n",
       "      <td>54.000000</td>\n",
       "      <td>130.000000</td>\n",
       "      <td>229.000000</td>\n",
       "      <td>140.500000</td>\n",
       "      <td>0.600000</td>\n",
       "    </tr>\n",
       "    <tr>\n",
       "      <th>75%</th>\n",
       "      <td>60.000000</td>\n",
       "      <td>140.000000</td>\n",
       "      <td>269.750000</td>\n",
       "      <td>160.000000</td>\n",
       "      <td>1.600000</td>\n",
       "    </tr>\n",
       "    <tr>\n",
       "      <th>max</th>\n",
       "      <td>77.000000</td>\n",
       "      <td>200.000000</td>\n",
       "      <td>603.000000</td>\n",
       "      <td>202.000000</td>\n",
       "      <td>6.200000</td>\n",
       "    </tr>\n",
       "  </tbody>\n",
       "</table>\n",
       "</div>"
      ],
      "text/plain": [
       "               age  resting bp s  cholesterol  max heart rate      oldpeak\n",
       "count  1190.000000   1190.000000  1190.000000     1190.000000  1190.000000\n",
       "mean     53.720168    132.153782   210.363866      139.732773     0.922773\n",
       "std       9.358203     18.368823   101.420489       25.517636     1.086337\n",
       "min      28.000000      0.000000     0.000000       60.000000    -2.600000\n",
       "25%      47.000000    120.000000   188.000000      121.000000     0.000000\n",
       "50%      54.000000    130.000000   229.000000      140.500000     0.600000\n",
       "75%      60.000000    140.000000   269.750000      160.000000     1.600000\n",
       "max      77.000000    200.000000   603.000000      202.000000     6.200000"
      ]
     },
     "execution_count": 4,
     "metadata": {},
     "output_type": "execute_result"
    }
   ],
   "source": [
    "numerical_df = df[[\"age\", \"resting bp s\", \"cholesterol\", \"max heart rate\", \"oldpeak\"]]\n",
    "numerical_df.describe()"
   ]
  },
  {
   "cell_type": "markdown",
   "metadata": {},
   "source": [
    "### Visualizing the Data\n",
    "\n",
    "To better understand the contents of the data used, plotting it can be more useful than simply showing a table. "
   ]
  },
  {
   "cell_type": "code",
   "execution_count": 5,
   "metadata": {},
   "outputs": [],
   "source": [
    "color_bar = \"#D7E8FF\"\n",
    "colors_class = [\"#D7E8FF\", \"#EF2D1B\"]\n",
    "colors_gender = [\"#F5BCFA\", \"#AEEAF5\"]\n",
    "colors_fbs = [\"#ff0000\", \"#00ff00\"]"
   ]
  },
  {
   "cell_type": "code",
   "execution_count": 6,
   "metadata": {},
   "outputs": [],
   "source": [
    "def get_col_value_counts(pandaSeries, category_dict):\n",
    "    count = pandaSeries.value_counts(sort=False)\n",
    "\n",
    "    for cat_key in category_dict.keys():\n",
    "        count[category_dict[cat_key]] = count.pop(cat_key)\n",
    "\n",
    "    values = [v for v in count]\n",
    "    labels = count.keys()\n",
    "    return values, labels"
   ]
  },
  {
   "cell_type": "code",
   "execution_count": 7,
   "metadata": {},
   "outputs": [],
   "source": [
    "def build_barh(pandasSeries, catDict, title=\"\"):\n",
    "\n",
    "      \n",
    "    values, labels = get_col_value_counts(pandasSeries, catDict)\n",
    "   \n",
    "    ymin = min(catDict.keys())\n",
    "\n",
    "    ymax=max(catDict.keys())+1\n",
    "    y_coord = range(ymin,ymax)\n",
    "    plt.title(title)\n",
    "    plt.barh(y=y_coord, width=values, tick_label=labels, color = color_bar)\n",
    "    plt.box(False)\n",
    "    for i, v in enumerate(values):\n",
    "        if ymin == 0:\n",
    "            plt.text(v+3, i, str(v))\n",
    "        else:\n",
    "            plt.text(v+3, i+1, str(v))"
   ]
  },
  {
   "cell_type": "code",
   "execution_count": 8,
   "metadata": {},
   "outputs": [],
   "source": [
    "def build_pie(pandaSeries, catDict, title=\"\", colors=colors_class,labels=True):\n",
    "    values, labels_count = get_col_value_counts(pandaSeries, catDict)\n",
    "\n",
    "    if labels == False:\n",
    "        labels_count = None\n",
    "    \n",
    "    plt.pie(values,labels=labels_count,autopct='%1.1f%%', colors=colors)\n",
    "    plt.title(title)\n",
    "    plt.axis('equal')"
   ]
  },
  {
   "cell_type": "code",
   "execution_count": 9,
   "metadata": {},
   "outputs": [],
   "source": [
    "def build_hist(pandaSeries, title=\"\"):\n",
    "    n, bins, patches = plt.hist(pandaSeries, rwidth=0.9, color = color_bar)\n",
    "    plt.box(False)\n",
    "    plt.title(title)\n",
    "    for k in range(0, len(n)):\n",
    "        v = n[k]\n",
    "        i = bins[k]\n",
    "        plt.text(i, v+3, str(v))\n",
    "    #plt.tick_params(axis=\"y\", left=False, labelleft=False)"
   ]
  },
  {
   "cell_type": "markdown",
   "metadata": {},
   "source": [
    "#### class\n",
    "\n",
    "The attribute used to distinguish if an individual has or not a heart disease. As seen below, 47% of the subjects show no heart disease, while 53% do."
   ]
  },
  {
   "cell_type": "code",
   "execution_count": 10,
   "metadata": {},
   "outputs": [
    {
     "data": {
      "image/png": "[encoded data removed]",
      "text/plain": [
       "<Figure size 432x288 with 1 Axes>"
      ]
     },
     "metadata": {},
     "output_type": "display_data"
    }
   ],
   "source": [
    "category_dict = {0: \"Healthy\", \n",
    "                 1: \"Heart Disease\"}\n",
    "build_pie(df[\"target\"], category_dict, title=\"Heart Status\")\n",
    "plt.show()"
   ]
  },
  {
   "cell_type": "markdown",
   "metadata": {},
   "source": [
    "#### sex\n",
    "\n",
    "The dataset is not so balanced when it comes to subjects' gender. Only 24% concern female individuals. "
   ]
  },
  {
   "cell_type": "code",
   "execution_count": 11,
   "metadata": {},
   "outputs": [
    {
     "data": {
      "image/png": "[encoded data removed]",
      "text/plain": [
       "<Figure size 432x288 with 1 Axes>"
      ]
     },
     "metadata": {},
     "output_type": "display_data"
    }
   ],
   "source": [
    "gender_dict = {0: \"Female\", \n",
    "                 1: \"Male\"}\n",
    "\n",
    "build_pie(df[\"sex\"], gender_dict, title=\"Sex\", colors=colors_gender)\n",
    "\n",
    "plt.show()"
   ]
  },
  {
   "cell_type": "markdown",
   "metadata": {},
   "source": [
    "As a simple exercise to see if any of the attributes can have an influence on the _class_ value, the data was divided according to gender. The plots below show that (for this dataset) male subjects show a higher tendency to develop heart diseases when compared to the females. "
   ]
  },
  {
   "cell_type": "code",
   "execution_count": 12,
   "metadata": {},
   "outputs": [
    {
     "data": {
      "image/png": "[encoded data removed]",
      "text/plain": [
       "<Figure size 1152x360 with 2 Axes>"
      ]
     },
     "metadata": {},
     "output_type": "display_data"
    }
   ],
   "source": [
    "female_df = df[df[\"sex\"] == 0]\n",
    "male_df = df[df[\"sex\"] == 1]\n",
    "\n",
    "_, labels = get_col_value_counts(female_df[\"target\"], category_dict)\n",
    "\n",
    "fig = plt.figure(figsize=(16, 5))\n",
    "\n",
    "plt.subplot(1,2,1)\n",
    "build_pie(female_df[\"target\"], category_dict, title=\"Female\", labels=False)\n",
    "\n",
    "plt.subplot(1,2,2)\n",
    "build_pie(male_df[\"target\"], category_dict, title=\"Male\", labels=False)\n",
    "\n",
    "fig.legend(labels=labels, loc=8)\n",
    "\n",
    "plt.show()"
   ]
  },
  {
   "cell_type": "markdown",
   "metadata": {},
   "source": [
    "#### chest pain type\n",
    "\n",
    "Below is a bar chart showing the count and proportion for each type of chest pain described."
   ]
  },
  {
   "cell_type": "code",
   "execution_count": 13,
   "metadata": {},
   "outputs": [
    {
     "data": {
      "image/png": "[encoded data removed]",
      "text/plain": [
       "<Figure size 432x288 with 1 Axes>"
      ]
     },
     "metadata": {
      "needs_background": "light"
     },
     "output_type": "display_data"
    }
   ],
   "source": [
    "pain_dict = {1: \"typical angina\",\n",
    "             2: \"atypical angina\",\n",
    "             3: \"non-anginal pain\",\n",
    "             4: \"asymptomatic\"}\n",
    "\n",
    "build_barh(df[\"chest pain type\"], pain_dict)\n",
    "\n",
    "plt.show()"
   ]
  },
  {
   "cell_type": "markdown",
   "metadata": {},
   "source": [
    "#### resting ecg\n",
    "\n",
    "Below is a bar chart showing the count and proportion for each type of resting ECG described."
   ]
  },
  {
   "cell_type": "code",
   "execution_count": 14,
   "metadata": {},
   "outputs": [
    {
     "data": {
      "image/png": "[encoded data removed]",
      "text/plain": [
       "<Figure size 432x288 with 1 Axes>"
      ]
     },
     "metadata": {
      "needs_background": "light"
     },
     "output_type": "display_data"
    }
   ],
   "source": [
    "ecg_dict = {0: \"Normal\",\n",
    "            1: \"ST-T wave abnormality\",\n",
    "            2: \"Probable left ventricular hypertrophy\"}\n",
    "\n",
    "build_barh(df[\"resting ecg\"], ecg_dict)\n",
    "\n",
    "plt.show()"
   ]
  },
  {
   "cell_type": "markdown",
   "metadata": {},
   "source": [
    "#### age, resting bp s, max heart rate, cholesterol\n",
    "\n",
    "Histograms for the attributes mentioned above are shown below with the respective count for each bin's class on top of the respective bar."
   ]
  },
  {
   "cell_type": "code",
   "execution_count": 15,
   "metadata": {},
   "outputs": [
    {
     "data": {
      "image/png": "[encoded data removed]",
      "text/plain": [
       "<Figure size 1152x648 with 4 Axes>"
      ]
     },
     "metadata": {
      "needs_background": "light"
     },
     "output_type": "display_data"
    }
   ],
   "source": [
    "plt.figure(figsize=(16,9))\n",
    "\n",
    "plt.subplot(221)\n",
    "build_hist(df[\"age\"], title=\"Age\")\n",
    "\n",
    "plt.subplot(222)\n",
    "build_hist(df[\"resting bp s\"], title=\"Resting Blood Pressure\")\n",
    "\n",
    "plt.subplot(223)\n",
    "build_hist(df[\"max heart rate\"], title=\"Maximum Heart Rate\")\n",
    "\n",
    "plt.subplot(224)\n",
    "build_hist(df[\"cholesterol\"], title=\"Cholesterol\")\n",
    "\n",
    "plt.show()"
   ]
  },
  {
   "cell_type": "markdown",
   "metadata": {},
   "source": [
    "#### fasting blood sugar, exercise angina\n",
    "\n",
    "Two pie charts below show the proportion of values in the binary attributes _fasting blood sugar_ and _exercise angina_."
   ]
  },
  {
   "cell_type": "code",
   "execution_count": 16,
   "metadata": {},
   "outputs": [
    {
     "data": {
      "image/png": "[encoded data removed]",
      "text/plain": [
       "<Figure size 1152x360 with 2 Axes>"
      ]
     },
     "metadata": {},
     "output_type": "display_data"
    }
   ],
   "source": [
    "plt.figure(figsize=(16,5))\n",
    "\n",
    "sugar_dict = {0: \"< 120 mg/dL\", \n",
    "                 1: \"> 120 mg/dL\"}\n",
    "plt.subplot(121)\n",
    "build_pie(df[\"fasting blood sugar\"], sugar_dict, title=\"Fasting Blood Sugar\")\n",
    "\n",
    "exercise_dict = {0: \"No angina\", \n",
    "                 1: \"Exercise angina\"}\n",
    "plt.subplot(122)\n",
    "build_pie(df[\"exercise angina\"], exercise_dict, title=\"Exercise Angina\")\n",
    "\n",
    "plt.show()"
   ]
  },
  {
   "cell_type": "markdown",
   "metadata": {},
   "source": [
    "#### ST slope, oldpeak\n",
    "\n",
    "The remaining two attributes pertain to the ST segment of the ECG. A horizonal bar graph, below on the left, shows the count for each of _ST slope_ possible values. As seen, there is one single record with a value not mentioned in the documentation and as such is simply described as \"NA. The histogram on the right concerns _oldpeak_."
   ]
  },
  {
   "cell_type": "code",
   "execution_count": 17,
   "metadata": {},
   "outputs": [
    {
     "data": {
      "image/png": "[encoded data removed]",
      "text/plain": [
       "<Figure size 1152x360 with 2 Axes>"
      ]
     },
     "metadata": {
      "needs_background": "light"
     },
     "output_type": "display_data"
    }
   ],
   "source": [
    "plt.figure(figsize=(16,5))\n",
    "\n",
    "slope_dict = {0: \"NA\",\n",
    "                1: \"Upslope\",\n",
    "                2: \"Flat\",\n",
    "                3: \"Downslope\"}\n",
    "\n",
    "plt.subplot(121)\n",
    "build_barh(df[\"ST slope\"], slope_dict, title=\"ST Slope\")\n",
    "\n",
    "plt.subplot(122)\n",
    "build_hist(df[\"oldpeak\"], title=\"Oldpeak\")\n",
    "\n",
    "plt.show()"
   ]
  },
  {
   "cell_type": "markdown",
   "metadata": {},
   "source": [
    "## Classification models\n",
    "\n",
    "As previously stated, three different classification models will be attempted in order to predict heart disease by using the given data. All models were implemented using the library `sklearn`."
   ]
  },
  {
   "cell_type": "markdown",
   "metadata": {},
   "source": [
    "### Preparing data\n",
    "\n",
    "Before training any model, the dataset needs to be prepared. In this case this consists in performing one-hot-encoding on the non-binary categorical attributes. In this way, if a category for a given attribute is labeled, for example, as 4, it will not have a greater influence than the category labeled as 1. Since normalization of numerical attributes might affect the outcome of both SVM and MLP, data will also be normalized following a min-max procedure."
   ]
  },
  {
   "cell_type": "code",
   "execution_count": 18,
   "metadata": {},
   "outputs": [],
   "source": [
    "def min_max_norm(pandasSeries):\n",
    "    min_value = pandasSeries.min()\n",
    "    max_value = pandasSeries.max()\n",
    "    delta = max_value-min_value\n",
    "    return (pandasSeries-min_value)/delta"
   ]
  },
  {
   "cell_type": "code",
   "execution_count": 19,
   "metadata": {},
   "outputs": [
    {
     "data": {
      "text/html": [
       "<div>\n",
       "<style scoped>\n",
       "    .dataframe tbody tr th:only-of-type {\n",
       "        vertical-align: middle;\n",
       "    }\n",
       "\n",
       "    .dataframe tbody tr th {\n",
       "        vertical-align: top;\n",
       "    }\n",
       "\n",
       "    .dataframe thead th {\n",
       "        text-align: right;\n",
       "    }\n",
       "</style>\n",
       "<table border=\"1\" class=\"dataframe\">\n",
       "  <thead>\n",
       "    <tr style=\"text-align: right;\">\n",
       "      <th></th>\n",
       "      <th>age</th>\n",
       "      <th>sex</th>\n",
       "      <th>chest pain type</th>\n",
       "      <th>resting bp s</th>\n",
       "      <th>cholesterol</th>\n",
       "      <th>fasting blood sugar</th>\n",
       "      <th>resting ecg</th>\n",
       "      <th>max heart rate</th>\n",
       "      <th>exercise angina</th>\n",
       "      <th>oldpeak</th>\n",
       "      <th>ST slope</th>\n",
       "      <th>target</th>\n",
       "    </tr>\n",
       "  </thead>\n",
       "  <tbody>\n",
       "    <tr>\n",
       "      <th>0</th>\n",
       "      <td>40</td>\n",
       "      <td>1</td>\n",
       "      <td>2</td>\n",
       "      <td>140</td>\n",
       "      <td>289</td>\n",
       "      <td>0</td>\n",
       "      <td>0</td>\n",
       "      <td>172</td>\n",
       "      <td>0</td>\n",
       "      <td>0.0</td>\n",
       "      <td>1</td>\n",
       "      <td>0</td>\n",
       "    </tr>\n",
       "    <tr>\n",
       "      <th>1</th>\n",
       "      <td>49</td>\n",
       "      <td>0</td>\n",
       "      <td>3</td>\n",
       "      <td>160</td>\n",
       "      <td>180</td>\n",
       "      <td>0</td>\n",
       "      <td>0</td>\n",
       "      <td>156</td>\n",
       "      <td>0</td>\n",
       "      <td>1.0</td>\n",
       "      <td>2</td>\n",
       "      <td>1</td>\n",
       "    </tr>\n",
       "    <tr>\n",
       "      <th>2</th>\n",
       "      <td>37</td>\n",
       "      <td>1</td>\n",
       "      <td>2</td>\n",
       "      <td>130</td>\n",
       "      <td>283</td>\n",
       "      <td>0</td>\n",
       "      <td>1</td>\n",
       "      <td>98</td>\n",
       "      <td>0</td>\n",
       "      <td>0.0</td>\n",
       "      <td>1</td>\n",
       "      <td>0</td>\n",
       "    </tr>\n",
       "    <tr>\n",
       "      <th>3</th>\n",
       "      <td>48</td>\n",
       "      <td>0</td>\n",
       "      <td>4</td>\n",
       "      <td>138</td>\n",
       "      <td>214</td>\n",
       "      <td>0</td>\n",
       "      <td>0</td>\n",
       "      <td>108</td>\n",
       "      <td>1</td>\n",
       "      <td>1.5</td>\n",
       "      <td>2</td>\n",
       "      <td>1</td>\n",
       "    </tr>\n",
       "    <tr>\n",
       "      <th>4</th>\n",
       "      <td>54</td>\n",
       "      <td>1</td>\n",
       "      <td>3</td>\n",
       "      <td>150</td>\n",
       "      <td>195</td>\n",
       "      <td>0</td>\n",
       "      <td>0</td>\n",
       "      <td>122</td>\n",
       "      <td>0</td>\n",
       "      <td>0.0</td>\n",
       "      <td>1</td>\n",
       "      <td>0</td>\n",
       "    </tr>\n",
       "  </tbody>\n",
       "</table>\n",
       "</div>"
      ],
      "text/plain": [
       "   age  sex  chest pain type  resting bp s  cholesterol  fasting blood sugar  \\\n",
       "0   40    1                2           140          289                    0   \n",
       "1   49    0                3           160          180                    0   \n",
       "2   37    1                2           130          283                    0   \n",
       "3   48    0                4           138          214                    0   \n",
       "4   54    1                3           150          195                    0   \n",
       "\n",
       "   resting ecg  max heart rate  exercise angina  oldpeak  ST slope  target  \n",
       "0            0             172                0      0.0         1       0  \n",
       "1            0             156                0      1.0         2       1  \n",
       "2            1              98                0      0.0         1       0  \n",
       "3            0             108                1      1.5         2       1  \n",
       "4            0             122                0      0.0         1       0  "
      ]
     },
     "metadata": {},
     "output_type": "display_data"
    }
   ],
   "source": [
    "display(df.head())"
   ]
  },
  {
   "cell_type": "code",
   "execution_count": 20,
   "metadata": {},
   "outputs": [
    {
     "data": {
      "text/html": [
       "<div>\n",
       "<style scoped>\n",
       "    .dataframe tbody tr th:only-of-type {\n",
       "        vertical-align: middle;\n",
       "    }\n",
       "\n",
       "    .dataframe tbody tr th {\n",
       "        vertical-align: top;\n",
       "    }\n",
       "\n",
       "    .dataframe thead th {\n",
       "        text-align: right;\n",
       "    }\n",
       "</style>\n",
       "<table border=\"1\" class=\"dataframe\">\n",
       "  <thead>\n",
       "    <tr style=\"text-align: right;\">\n",
       "      <th></th>\n",
       "      <th>age</th>\n",
       "      <th>sex</th>\n",
       "      <th>chest pain type</th>\n",
       "      <th>resting bp s</th>\n",
       "      <th>cholesterol</th>\n",
       "      <th>fasting blood sugar</th>\n",
       "      <th>resting ecg</th>\n",
       "      <th>max heart rate</th>\n",
       "      <th>exercise angina</th>\n",
       "      <th>oldpeak</th>\n",
       "      <th>ST slope</th>\n",
       "    </tr>\n",
       "  </thead>\n",
       "  <tbody>\n",
       "    <tr>\n",
       "      <th>0</th>\n",
       "      <td>0.244898</td>\n",
       "      <td>Male</td>\n",
       "      <td>atypical angina</td>\n",
       "      <td>0.70</td>\n",
       "      <td>0.479270</td>\n",
       "      <td>&lt; 120 mg/dL</td>\n",
       "      <td>Normal</td>\n",
       "      <td>0.788732</td>\n",
       "      <td>No angina</td>\n",
       "      <td>0.295455</td>\n",
       "      <td>Upslope</td>\n",
       "    </tr>\n",
       "    <tr>\n",
       "      <th>1</th>\n",
       "      <td>0.428571</td>\n",
       "      <td>Female</td>\n",
       "      <td>non-anginal pain</td>\n",
       "      <td>0.80</td>\n",
       "      <td>0.298507</td>\n",
       "      <td>&lt; 120 mg/dL</td>\n",
       "      <td>Normal</td>\n",
       "      <td>0.676056</td>\n",
       "      <td>No angina</td>\n",
       "      <td>0.409091</td>\n",
       "      <td>Flat</td>\n",
       "    </tr>\n",
       "    <tr>\n",
       "      <th>2</th>\n",
       "      <td>0.183673</td>\n",
       "      <td>Male</td>\n",
       "      <td>atypical angina</td>\n",
       "      <td>0.65</td>\n",
       "      <td>0.469320</td>\n",
       "      <td>&lt; 120 mg/dL</td>\n",
       "      <td>ST-T wave abnormality</td>\n",
       "      <td>0.267606</td>\n",
       "      <td>No angina</td>\n",
       "      <td>0.295455</td>\n",
       "      <td>Upslope</td>\n",
       "    </tr>\n",
       "    <tr>\n",
       "      <th>3</th>\n",
       "      <td>0.408163</td>\n",
       "      <td>Female</td>\n",
       "      <td>asymptomatic</td>\n",
       "      <td>0.69</td>\n",
       "      <td>0.354892</td>\n",
       "      <td>&lt; 120 mg/dL</td>\n",
       "      <td>Normal</td>\n",
       "      <td>0.338028</td>\n",
       "      <td>Exercise angina</td>\n",
       "      <td>0.465909</td>\n",
       "      <td>Flat</td>\n",
       "    </tr>\n",
       "    <tr>\n",
       "      <th>4</th>\n",
       "      <td>0.530612</td>\n",
       "      <td>Male</td>\n",
       "      <td>non-anginal pain</td>\n",
       "      <td>0.75</td>\n",
       "      <td>0.323383</td>\n",
       "      <td>&lt; 120 mg/dL</td>\n",
       "      <td>Normal</td>\n",
       "      <td>0.436620</td>\n",
       "      <td>No angina</td>\n",
       "      <td>0.295455</td>\n",
       "      <td>Upslope</td>\n",
       "    </tr>\n",
       "  </tbody>\n",
       "</table>\n",
       "</div>"
      ],
      "text/plain": [
       "        age     sex   chest pain type  resting bp s  cholesterol  \\\n",
       "0  0.244898    Male   atypical angina          0.70     0.479270   \n",
       "1  0.428571  Female  non-anginal pain          0.80     0.298507   \n",
       "2  0.183673    Male   atypical angina          0.65     0.469320   \n",
       "3  0.408163  Female      asymptomatic          0.69     0.354892   \n",
       "4  0.530612    Male  non-anginal pain          0.75     0.323383   \n",
       "\n",
       "  fasting blood sugar            resting ecg  max heart rate  exercise angina  \\\n",
       "0         < 120 mg/dL                 Normal        0.788732        No angina   \n",
       "1         < 120 mg/dL                 Normal        0.676056        No angina   \n",
       "2         < 120 mg/dL  ST-T wave abnormality        0.267606        No angina   \n",
       "3         < 120 mg/dL                 Normal        0.338028  Exercise angina   \n",
       "4         < 120 mg/dL                 Normal        0.436620        No angina   \n",
       "\n",
       "    oldpeak ST slope  \n",
       "0  0.295455  Upslope  \n",
       "1  0.409091     Flat  \n",
       "2  0.295455  Upslope  \n",
       "3  0.465909     Flat  \n",
       "4  0.295455  Upslope  "
      ]
     },
     "metadata": {},
     "output_type": "display_data"
    }
   ],
   "source": [
    "features = df.drop(\"target\", axis=1)\n",
    "\n",
    "features[\"sex\"].replace(gender_dict, inplace=True)\n",
    "features[\"chest pain type\"].replace(pain_dict, inplace=True)\n",
    "features[\"fasting blood sugar\"].replace(sugar_dict, inplace=True)\n",
    "features[\"resting ecg\"].replace(ecg_dict, inplace=True)\n",
    "features[\"exercise angina\"].replace(exercise_dict, inplace=True)\n",
    "features[\"ST slope\"].replace(slope_dict, inplace=True)\n",
    "\n",
    "features[\"age\"] = min_max_norm(features[\"age\"])\n",
    "features[\"resting bp s\"] = min_max_norm(features[\"resting bp s\"])\n",
    "features[\"cholesterol\"] = min_max_norm(features[\"cholesterol\"])\n",
    "features[\"max heart rate\"] = min_max_norm(features[\"max heart rate\"])\n",
    "features[\"oldpeak\"] = min_max_norm(features[\"oldpeak\"])\n",
    "\n",
    "display(features.head())"
   ]
  },
  {
   "cell_type": "code",
   "execution_count": 21,
   "metadata": {},
   "outputs": [
    {
     "data": {
      "text/html": [
       "<div>\n",
       "<style scoped>\n",
       "    .dataframe tbody tr th:only-of-type {\n",
       "        vertical-align: middle;\n",
       "    }\n",
       "\n",
       "    .dataframe tbody tr th {\n",
       "        vertical-align: top;\n",
       "    }\n",
       "\n",
       "    .dataframe thead th {\n",
       "        text-align: right;\n",
       "    }\n",
       "</style>\n",
       "<table border=\"1\" class=\"dataframe\">\n",
       "  <thead>\n",
       "    <tr style=\"text-align: right;\">\n",
       "      <th></th>\n",
       "      <th>age</th>\n",
       "      <th>resting bp s</th>\n",
       "      <th>cholesterol</th>\n",
       "      <th>max heart rate</th>\n",
       "      <th>oldpeak</th>\n",
       "      <th>sex_Female</th>\n",
       "      <th>sex_Male</th>\n",
       "      <th>chest pain type_asymptomatic</th>\n",
       "      <th>chest pain type_atypical angina</th>\n",
       "      <th>chest pain type_non-anginal pain</th>\n",
       "      <th>...</th>\n",
       "      <th>fasting blood sugar_&gt; 120 mg/dL</th>\n",
       "      <th>resting ecg_Normal</th>\n",
       "      <th>resting ecg_Probable left ventricular hypertrophy</th>\n",
       "      <th>resting ecg_ST-T wave abnormality</th>\n",
       "      <th>exercise angina_Exercise angina</th>\n",
       "      <th>exercise angina_No angina</th>\n",
       "      <th>ST slope_Downslope</th>\n",
       "      <th>ST slope_Flat</th>\n",
       "      <th>ST slope_NA</th>\n",
       "      <th>ST slope_Upslope</th>\n",
       "    </tr>\n",
       "  </thead>\n",
       "  <tbody>\n",
       "    <tr>\n",
       "      <th>0</th>\n",
       "      <td>0.244898</td>\n",
       "      <td>0.70</td>\n",
       "      <td>0.479270</td>\n",
       "      <td>0.788732</td>\n",
       "      <td>0.295455</td>\n",
       "      <td>0</td>\n",
       "      <td>1</td>\n",
       "      <td>0</td>\n",
       "      <td>1</td>\n",
       "      <td>0</td>\n",
       "      <td>...</td>\n",
       "      <td>0</td>\n",
       "      <td>1</td>\n",
       "      <td>0</td>\n",
       "      <td>0</td>\n",
       "      <td>0</td>\n",
       "      <td>1</td>\n",
       "      <td>0</td>\n",
       "      <td>0</td>\n",
       "      <td>0</td>\n",
       "      <td>1</td>\n",
       "    </tr>\n",
       "    <tr>\n",
       "      <th>1</th>\n",
       "      <td>0.428571</td>\n",
       "      <td>0.80</td>\n",
       "      <td>0.298507</td>\n",
       "      <td>0.676056</td>\n",
       "      <td>0.409091</td>\n",
       "      <td>1</td>\n",
       "      <td>0</td>\n",
       "      <td>0</td>\n",
       "      <td>0</td>\n",
       "      <td>1</td>\n",
       "      <td>...</td>\n",
       "      <td>0</td>\n",
       "      <td>1</td>\n",
       "      <td>0</td>\n",
       "      <td>0</td>\n",
       "      <td>0</td>\n",
       "      <td>1</td>\n",
       "      <td>0</td>\n",
       "      <td>1</td>\n",
       "      <td>0</td>\n",
       "      <td>0</td>\n",
       "    </tr>\n",
       "    <tr>\n",
       "      <th>2</th>\n",
       "      <td>0.183673</td>\n",
       "      <td>0.65</td>\n",
       "      <td>0.469320</td>\n",
       "      <td>0.267606</td>\n",
       "      <td>0.295455</td>\n",
       "      <td>0</td>\n",
       "      <td>1</td>\n",
       "      <td>0</td>\n",
       "      <td>1</td>\n",
       "      <td>0</td>\n",
       "      <td>...</td>\n",
       "      <td>0</td>\n",
       "      <td>0</td>\n",
       "      <td>0</td>\n",
       "      <td>1</td>\n",
       "      <td>0</td>\n",
       "      <td>1</td>\n",
       "      <td>0</td>\n",
       "      <td>0</td>\n",
       "      <td>0</td>\n",
       "      <td>1</td>\n",
       "    </tr>\n",
       "    <tr>\n",
       "      <th>3</th>\n",
       "      <td>0.408163</td>\n",
       "      <td>0.69</td>\n",
       "      <td>0.354892</td>\n",
       "      <td>0.338028</td>\n",
       "      <td>0.465909</td>\n",
       "      <td>1</td>\n",
       "      <td>0</td>\n",
       "      <td>1</td>\n",
       "      <td>0</td>\n",
       "      <td>0</td>\n",
       "      <td>...</td>\n",
       "      <td>0</td>\n",
       "      <td>1</td>\n",
       "      <td>0</td>\n",
       "      <td>0</td>\n",
       "      <td>1</td>\n",
       "      <td>0</td>\n",
       "      <td>0</td>\n",
       "      <td>1</td>\n",
       "      <td>0</td>\n",
       "      <td>0</td>\n",
       "    </tr>\n",
       "    <tr>\n",
       "      <th>4</th>\n",
       "      <td>0.530612</td>\n",
       "      <td>0.75</td>\n",
       "      <td>0.323383</td>\n",
       "      <td>0.436620</td>\n",
       "      <td>0.295455</td>\n",
       "      <td>0</td>\n",
       "      <td>1</td>\n",
       "      <td>0</td>\n",
       "      <td>0</td>\n",
       "      <td>1</td>\n",
       "      <td>...</td>\n",
       "      <td>0</td>\n",
       "      <td>1</td>\n",
       "      <td>0</td>\n",
       "      <td>0</td>\n",
       "      <td>0</td>\n",
       "      <td>1</td>\n",
       "      <td>0</td>\n",
       "      <td>0</td>\n",
       "      <td>0</td>\n",
       "      <td>1</td>\n",
       "    </tr>\n",
       "  </tbody>\n",
       "</table>\n",
       "<p>5 rows × 22 columns</p>\n",
       "</div>"
      ],
      "text/plain": [
       "        age  resting bp s  cholesterol  max heart rate   oldpeak  sex_Female  \\\n",
       "0  0.244898          0.70     0.479270        0.788732  0.295455           0   \n",
       "1  0.428571          0.80     0.298507        0.676056  0.409091           1   \n",
       "2  0.183673          0.65     0.469320        0.267606  0.295455           0   \n",
       "3  0.408163          0.69     0.354892        0.338028  0.465909           1   \n",
       "4  0.530612          0.75     0.323383        0.436620  0.295455           0   \n",
       "\n",
       "   sex_Male  chest pain type_asymptomatic  chest pain type_atypical angina  \\\n",
       "0         1                             0                                1   \n",
       "1         0                             0                                0   \n",
       "2         1                             0                                1   \n",
       "3         0                             1                                0   \n",
       "4         1                             0                                0   \n",
       "\n",
       "   chest pain type_non-anginal pain  ...  fasting blood sugar_> 120 mg/dL  \\\n",
       "0                                 0  ...                                0   \n",
       "1                                 1  ...                                0   \n",
       "2                                 0  ...                                0   \n",
       "3                                 0  ...                                0   \n",
       "4                                 1  ...                                0   \n",
       "\n",
       "   resting ecg_Normal  resting ecg_Probable left ventricular hypertrophy  \\\n",
       "0                   1                                                  0   \n",
       "1                   1                                                  0   \n",
       "2                   0                                                  0   \n",
       "3                   1                                                  0   \n",
       "4                   1                                                  0   \n",
       "\n",
       "   resting ecg_ST-T wave abnormality  exercise angina_Exercise angina  \\\n",
       "0                                  0                                0   \n",
       "1                                  0                                0   \n",
       "2                                  1                                0   \n",
       "3                                  0                                1   \n",
       "4                                  0                                0   \n",
       "\n",
       "   exercise angina_No angina  ST slope_Downslope  ST slope_Flat  ST slope_NA  \\\n",
       "0                          1                   0              0            0   \n",
       "1                          1                   0              1            0   \n",
       "2                          1                   0              0            0   \n",
       "3                          0                   0              1            0   \n",
       "4                          1                   0              0            0   \n",
       "\n",
       "   ST slope_Upslope  \n",
       "0                 1  \n",
       "1                 0  \n",
       "2                 1  \n",
       "3                 0  \n",
       "4                 1  \n",
       "\n",
       "[5 rows x 22 columns]"
      ]
     },
     "execution_count": 21,
     "metadata": {},
     "output_type": "execute_result"
    }
   ],
   "source": [
    "features = pd.get_dummies(features)\n",
    "\n",
    "features.head()"
   ]
  },
  {
   "cell_type": "code",
   "execution_count": 22,
   "metadata": {},
   "outputs": [],
   "source": [
    "targets = np.array(df[\"target\"])\n",
    "feature_list = list(features.columns)\n",
    "features = np.array(features)"
   ]
  },
  {
   "cell_type": "markdown",
   "metadata": {},
   "source": [
    "After both normalization and one-hot-encoding of the dataset, we split into a training and a test subsets."
   ]
  },
  {
   "cell_type": "code",
   "execution_count": 23,
   "metadata": {},
   "outputs": [],
   "source": [
    "train_features, test_features, train_labels, test_labels = train_test_split(features, targets, test_size=0.3)"
   ]
  },
  {
   "cell_type": "markdown",
   "metadata": {},
   "source": [
    "### Random Forest\n",
    "\n",
    "The first model tested is the Random Forest, composed of 100 decision trees."
   ]
  },
  {
   "cell_type": "code",
   "execution_count": 24,
   "metadata": {},
   "outputs": [
    {
     "name": "stdout",
     "output_type": "stream",
     "text": [
      "Average precision: 93.86%\n",
      "Maximum F1-score is 0.94 at a threshold level of 0.50\n"
     ]
    },
    {
     "data": {
      "image/png": "[encoded data removed]",
      "text/plain": [
       "<Figure size 432x288 with 1 Axes>"
      ]
     },
     "metadata": {
      "needs_background": "light"
     },
     "output_type": "display_data"
    }
   ],
   "source": [
    "rf = RandomForestRegressor(n_estimators=100)\n",
    "rf.fit(train_features, train_labels)\n",
    "\n",
    "score = rf.predict(test_features)\n",
    "ap = average_precision_score(test_labels, score)\n",
    "ap = ap*100\n",
    "print(\"Average precision: %0.2f%%\" % ap)\n",
    "\n",
    "threshold = []\n",
    "f1 = []\n",
    "for t in range(0, 105, 5):\n",
    "    results = [1 if s >= (t/100) else 0 for s in score]\n",
    "    threshold.append(t/100)\n",
    "    f1.append(f1_score(test_labels, results))\n",
    "    \n",
    "opt_threshold = threshold[f1.index(max(f1))]\n",
    "print(\"Maximum F1-score is %0.2f at a threshold level of %0.2f\" % (max(f1), opt_threshold))\n",
    "\n",
    "plt.scatter(threshold, f1, color=\"#AABADD\")\n",
    "plt.scatter(opt_threshold, max(f1), color=colors_class[1])\n",
    "plt.title(\"F1-Score vs Threshold\")\n",
    "plt.show()"
   ]
  },
  {
   "cell_type": "markdown",
   "metadata": {},
   "source": [
    "### SVM\n",
    "\n",
    "Aftewards, a SVM model is implemented. From the available kernels, the choice seems to be between the polynomial of third degree (default value of the function used) and RBF. For further comparison between models, these two kernels will be used."
   ]
  },
  {
   "cell_type": "code",
   "execution_count": 25,
   "metadata": {},
   "outputs": [
    {
     "name": "stdout",
     "output_type": "stream",
     "text": [
      "Using linear kernel,\n",
      "\tF1-score: 0.85\n",
      "\tAverage precision: 80.17%\n",
      "Using poly kernel,\n",
      "\tF1-score: 0.84\n",
      "\tAverage precision: 80.38%\n",
      "Using rbf kernel,\n",
      "\tF1-score: 0.85\n",
      "\tAverage precision: 80.32%\n",
      "Using sigmoid kernel,\n",
      "\tF1-score: 0.78\n",
      "\tAverage precision: 73.79%\n"
     ]
    }
   ],
   "source": [
    "kernel_list = [\"linear\", \"poly\", \"rbf\", \"sigmoid\"]\n",
    "\n",
    "for kernel in kernel_list:\n",
    "    svm_clf = svm.SVC(kernel=kernel)\n",
    "    svm_clf.fit(train_features, train_labels)\n",
    "    pred = svm_clf.predict(test_features)\n",
    "    print(\"Using %s kernel,\\n\\tF1-score: %0.2f\" % (kernel,f1_score(test_labels, pred)))\n",
    "\n",
    "    ap = average_precision_score(test_labels, pred)\n",
    "    ap = ap*100\n",
    "    print(\"\\tAverage precision: %0.2f%%\" % ap)"
   ]
  },
  {
   "cell_type": "markdown",
   "metadata": {},
   "source": [
    "### MLP\n",
    "\n",
    "Using a simple multilayer perceptron neural network it also seems possible to predict heart disease with the given data."
   ]
  },
  {
   "cell_type": "code",
   "execution_count": 26,
   "metadata": {},
   "outputs": [
    {
     "name": "stdout",
     "output_type": "stream",
     "text": [
      "F1-score: 0.85\n"
     ]
    }
   ],
   "source": [
    "mlp_clf = MLPClassifier(solver=\"sgd\",  hidden_layer_sizes=(100,), max_iter=1000)\n",
    "mlp_clf.fit(train_features, train_labels)\n",
    "mlp_pred = mlp_clf.predict(test_features)\n",
    "\n",
    "print(\"F1-score: %0.2f\" % f1_score(test_labels, mlp_pred))"
   ]
  },
  {
   "cell_type": "markdown",
   "metadata": {},
   "source": [
    "### Model Comparison\n",
    "\n",
    "After verifying that the proposed models seem to accuratelly predict heart diseases, they can now be compared. For this, the metric used will be the F1-Score. Since the goal is to compare general model type, an average score will be calculated from several model fitting and prediction loops, each with a different training and testing sets."
   ]
  },
  {
   "cell_type": "code",
   "execution_count": 27,
   "metadata": {},
   "outputs": [],
   "source": [
    "def prediction_models_f1(train_features, test_features, train_labels, test_labels):\n",
    "    \n",
    "    rf = RandomForestRegressor(n_estimators=100)\n",
    "    rf.fit(train_features, train_labels)\n",
    "    score = rf.predict(test_features)\n",
    "    f1 = []\n",
    "    for t in range(0, 105, 5):\n",
    "        results = [1 if s >= (t/100) else 0 for s in score]\n",
    "        f1.append(f1_score(test_labels, results))\n",
    "    rf_f1 = max(f1)\n",
    "    \n",
    "    poly_svm = svm.SVC(kernel=\"poly\")\n",
    "    poly_svm.fit(train_features, train_labels)\n",
    "    poly_pred = poly_svm.predict(test_features)\n",
    "    poly_svm_f1 = f1_score(test_labels, poly_pred)\n",
    "    \n",
    "    rbf_svm = svm.SVC(kernel=\"rbf\")\n",
    "    rbf_svm.fit(train_features, train_labels)\n",
    "    rbf_pred = rbf_svm.predict(test_features)\n",
    "    rbf_svm_f1 = f1_score(test_labels, rbf_pred)\n",
    "    \n",
    "    mlp_clf = MLPClassifier(solver=\"sgd\",  hidden_layer_sizes=(100,), max_iter=1000)\n",
    "    mlp_clf.fit(train_features, train_labels)\n",
    "    mlp_pred = mlp_clf.predict(test_features)\n",
    "    mlp_f1 = f1_score(test_labels, mlp_pred)\n",
    "\n",
    "    return rf_f1, poly_svm_f1, rbf_svm_f1, mlp_f1    "
   ]
  },
  {
   "cell_type": "code",
   "execution_count": 28,
   "metadata": {},
   "outputs": [
    {
     "name": "stdout",
     "output_type": "stream",
     "text": [
      "Average F1-Score\n",
      "\tRandom Forest: 0.92\n",
      "\tSVM with polynomial kernel: 0.86\n",
      "\tSVM with RBF kernel: 0.86\n",
      "\tMultilayer Perceptron: 0.85\n"
     ]
    }
   ],
   "source": [
    "max_cycles = 50\n",
    "\n",
    "rf_list = []\n",
    "poly_svm_list = []\n",
    "rbf_svm_list = []\n",
    "mlp_list = []\n",
    "\n",
    "for k in range(0, max_cycles):\n",
    "    train_features, test_features, train_labels, test_labels = train_test_split(features, targets, test_size=0.3)\n",
    "    rf_f1, p_svm_f1, rbf_svm_f1, mlp_f1 = prediction_models_f1(train_features, test_features, train_labels, test_labels)\n",
    "    rf_list.append(rf_f1)\n",
    "    poly_svm_list.append(p_svm_f1)\n",
    "    rbf_svm_list.append(rbf_svm_f1)\n",
    "    mlp_list.append(mlp_f1)\n",
    "    \n",
    "print(\"Average F1-Score\")\n",
    "print(\"\\tRandom Forest: %0.2f\" % (sum(rf_list)/len(rf_list)))\n",
    "print(\"\\tSVM with polynomial kernel: %0.2f\" % (sum(poly_svm_list)/len(poly_svm_list)))\n",
    "print(\"\\tSVM with RBF kernel: %0.2f\" % (sum(rbf_svm_list)/len(rbf_svm_list)))\n",
    "print(\"\\tMultilayer Perceptron: %0.2f\" % (sum(mlp_list)/len(mlp_list)))"
   ]
  },
  {
   "cell_type": "markdown",
   "metadata": {},
   "source": [
    "From the above tests we can infer that it seems possible to predict heart disease given several attributes concerning an individual's health. Of the models studied, a random forest is the one with the highest F1-Score and as such should prioritized in further studies with similar datasets."
   ]
  },
  {
   "cell_type": "markdown",
   "metadata": {},
   "source": [
    "## References\n",
    "\n",
    "[1] https://www.nhs.uk/conditions/angina/  \n",
    "[2] https://archive.ics.uci.edu/ml/datasets/heart%2BDisease  \n",
    "[3] S. Benbelkacem and B. Atmani, \"Random Forests for Diabetes Diagnosis,\" _2019 International Conference on Computer and Information Sciences (ICCIS)_, Sakaka, Saudi Arabia, 2019, pp. 1-4, doi: 10.1109/ICCISci.2019.8716405  \n",
    "[4] Birjais, R., Mourya, A.K., Chauhan, R. _et al._ Prediction and diagnosis of future diabetes risk: a machine learning approach. _SN Appl. Sci._ 1, 1112 (2019). https://doi.org/10.1007/s42452-019-1117-9  "
   ]
  }
 ],
 "metadata": {
  "kernelspec": {
   "display_name": "Python 3",
   "language": "python",
   "name": "python3"
  },
  "language_info": {
   "codemirror_mode": {
    "name": "ipython",
    "version": 3
   },
   "file_extension": ".py",
   "mimetype": "text/x-python",
   "name": "python",
   "nbconvert_exporter": "python",
   "pygments_lexer": "ipython3",
   "version": "3.8.5"
  }
 },
 "nbformat": 4,
 "nbformat_minor": 4
}
